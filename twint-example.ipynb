{
 "cells": [
  {
   "cell_type": "markdown",
   "metadata": {},
   "source": [
    "# Sample Notebook for Exploring Tweets with Twint"
   ]
  },
  {
   "cell_type": "markdown",
   "metadata": {},
   "source": [
    "note: as of 11-23, there were some issues with the twint package on pip that I fixed manually before discovering they'd already been addressed in the most recent release on github. I recommend downloading straight from github: https://github.com/twintproject/twint"
   ]
  },
  {
   "cell_type": "code",
   "execution_count": null,
   "metadata": {},
   "outputs": [],
   "source": [
    "import twint\n",
    "import nest_asyncio\n",
    "\n",
    "nest_asyncio.apply()"
   ]
  },
  {
   "cell_type": "markdown",
   "metadata": {},
   "source": [
    "here's how to search for a given term using the search function. you can search for a term in all tweets or limited to a specific user."
   ]
  },
  {
   "cell_type": "code",
   "execution_count": null,
   "metadata": {},
   "outputs": [],
   "source": [
    "c = twint.Config()\n",
    "\n",
    "c.Username = \"\" #add username here or remove if you don't care about this\n",
    "c.Search = \"xiyao troll\"\n",
    "c.Custom[\"user\"] = [\"id\", \"username\"]\n",
    "c.Custom[\"tweet\"] = [\"id\", \"username\", \"date\", \"time\", \"timezone\", \"tweet\"]\n",
    "c.Profile_full = True\n",
    "c.Format = \"ID, {id}, {username}, {date}, {time}, {timezone}, {tweet}\"\n",
    "c.Output = \"trolltweets.csv\" #or whatever you want to name it\n",
    "c.Store_csv = True\n",
    "\n",
    "twint.run.Search(c)"
   ]
  },
  {
   "cell_type": "markdown",
   "metadata": {},
   "source": [
    "here's how to pull the most recent 3200 tweets from a public twitter account, including retweets."
   ]
  },
  {
   "cell_type": "code",
   "execution_count": null,
   "metadata": {},
   "outputs": [],
   "source": [
    "c = twint.Config()\n",
    "\n",
    "c.Username = \"\" #add username here\n",
    "c.Custom[\"user\"] = [\"id\", \"username\"]\n",
    "c.Custom[\"tweet\"] = [\"id\", \"username\", \"date\", \"time\", \"timezone\", \"tweet\"]\n",
    "c.Profile_full = True\n",
    "c.Format = \"ID, {id}, {username}, {date}, {time}, {timezone}, {tweet}\"\n",
    "c.Output = \"tweets-with-RTs.csv\"\n",
    "c.Retweets = True\n",
    "c.Store_csv = True\n",
    "\n",
    "twint.run.Profile(c)"
   ]
  }
 ],
 "metadata": {
  "kernelspec": {
   "display_name": "Python 3",
   "language": "python",
   "name": "python3"
  },
  "language_info": {
   "codemirror_mode": {
    "name": "ipython",
    "version": 3
   },
   "file_extension": ".py",
   "mimetype": "text/x-python",
   "name": "python",
   "nbconvert_exporter": "python",
   "pygments_lexer": "ipython3",
   "version": "3.8.5"
  }
 },
 "nbformat": 4,
 "nbformat_minor": 4
}
